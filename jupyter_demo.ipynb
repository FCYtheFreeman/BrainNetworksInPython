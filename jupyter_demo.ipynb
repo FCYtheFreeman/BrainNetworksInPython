{
 "cells": [
  {
   "cell_type": "markdown",
   "metadata": {},
   "source": [
    "# Brain Networks in Python\n",
    "\n",
    "The WhitakerLab's Brain Networks in Python repository is a tool to perform network analysis on covariance in cortical thickness"
   ]
  },
  {
   "cell_type": "markdown",
   "metadata": {},
   "source": [
    "### Setting Up\n",
    "\n",
    "   This code prefers Python3 although (I think) it will still run in 2. \n",
    "   \n",
    "   You will need to clone the BrainNetworksinPython repository\n",
    "\n",
    "You will need the following Python modules installed\n",
    "\n",
    "* [numpy](https://pypi.python.org/pypi/numpy/1.13.0rc1)\n",
    "* [pandas](https://pypi.python.org/pypi/pandas/0.20.1)\n",
    "* [matplotlib](https://matplotlib.org/users/installing.html)\n",
    "* [community/python-louvain](https://pypi.python.org/pypi/python-louvain/0.6) (pip install python-louvain if you use pip)\n",
    "* [networkx](https://pypi.python.org/pypi/networkx/1.11)\n",
    "* [seaborn](https://pypi.python.org/pypi/seaborn/)\n",
    "* From the Python Standard Library\n",
    "    * pickle\n",
    "    * os\n",
    "    * sys\n",
    "    * \\_\\_future\\_\\_\n",
    "    * argparse\n",
    "    * textwrap\n",
    "    \n",
    "I'm going to add the wrappers, scripts and example_data directories to the search path. The wrappers and scripts folders contain all of our python code. \n",
    "The 'example_data' directory contains the example data from the github repository. If you have data of your own that you want to use, go ahead and direct the search path to it."
   ]
  },
  {
   "cell_type": "code",
   "execution_count": null,
   "metadata": {
    "collapsed": true
   },
   "outputs": [],
   "source": [
    "import sys\n",
    "import os\n",
    "\n",
    "# We add our wrappers, scripts and example_data folders to the searchpath\n",
    "sys.path.append('./wrappers')\n",
    "sys.path.append('./example_data')\n",
    "sys.path.append('./scripts')        \n",
    "\n"
   ]
  },
  {
   "cell_type": "markdown",
   "metadata": {},
   "source": [
    "### Running corrmat_from_regionalmeasures\n"
   ]
  },
  {
   "cell_type": "markdown",
   "metadata": {},
   "source": [
    "The corrmat_from_regionalmeasures wrapper is going to read in our cortical thickness data to create the correlation matrix and write it to the output directory as a .txt file.\n",
    "\n",
    "The function we're going to use requires three files:\n",
    "\n",
    "* A csv file documenting cortical thickness per region for each participant.\n",
    "* the names of our brain regions\n",
    "* the cartesian coordinates of each brain region\n",
    "\n",
    "\n",
    "We can also indicate covariates, but let's save that for a later time"
   ]
  },
  {
   "cell_type": "code",
   "execution_count": null,
   "metadata": {
    "collapsed": true
   },
   "outputs": [],
   "source": [
    "# We define our file locations. If you are using your own data these are the locations that you will want to change\n",
    "centroids_file = \"./example_data/500.centroids.txt\"         \n",
    "names_file = \"./example_data/500.names.txt\"                   \n",
    "regionalmeasures_file =\"./example_data/PARC_500aparc_thickness_behavmerge.csv\" \n",
    "\n",
    "# We choose where to output our corrmat file\n",
    "corrmat_file = os.getcwd()+'/corrmat_file.txt'   \n",
    "\n",
    "import corrmat_from_regionalmeasures as cfrm\n",
    "cfrm.corrmat_from_regionalmeasures(regionalmeasures_file, names_file, corrmat_file, names_308_style=True)"
   ]
  },
  {
   "cell_type": "markdown",
   "metadata": {},
   "source": [
    "The correlation matrix can be found now in our working directory saved as corrmat_file.txt.\n",
    "\n",
    "If you'd like to see a more agreeable visual representation of the matrix, the next cell will generate a heatmap (saved as a png in you current working directory)"
   ]
  },
  {
   "cell_type": "code",
   "execution_count": null,
   "metadata": {},
   "outputs": [],
   "source": [
    "import visualisation_commands as vc\n",
    "corrmat_picture=os.getcwd()+'/corrmat_picture'\n",
    "vc.view_corr_mat(corrmat_file, corrmat_picture, cmap_name='gnuplot2')\n",
    "from IPython.display import Image\n",
    "Image(\"corrmat_picture.png\")"
   ]
  },
  {
   "cell_type": "markdown",
   "metadata": {},
   "source": [
    "If you don't like pink, please take a look at matplotlib's [colormap documentation](https://matplotlib.org/examples/color/colormaps_reference.html) and change the cmap_name= argument"
   ]
  },
  {
   "cell_type": "markdown",
   "metadata": {},
   "source": [
    "### Running network_analysis_from_corrmat\n",
    "\n",
    "Our second wrapper will turn our matrix into a network (at cost) and calculate a bunch of network measures. We will write these out as csv files. For more information on what it does to them and how see this [blog post]()\n"
   ]
  },
  {
   "cell_type": "code",
   "execution_count": null,
   "metadata": {},
   "outputs": [],
   "source": [
    "# Once again, this is going to write some files, so we give it a location\n",
    "network_analysis = os.getcwd()+'/network_analysis'\n",
    "# This is going to take a couple of minutes\n",
    "import network_analysis_from_corrmat as nafc\n",
    "network_analysis = os.getcwd()+'/network_analysis'\n",
    "nafc.network_analysis_from_corrmat(corrmat_file,\n",
    "                                  names_file,\n",
    "                                  centroids_file,\n",
    "                                  network_analysis,\n",
    "                                  cost=10,\n",
    "                                  n_rand=1000,\n",
    "                                  names_308_style=True)"
   ]
  },
  {
   "cell_type": "markdown",
   "metadata": {},
   "source": [
    "### Visualising the data\n"
   ]
  },
  {
   "cell_type": "markdown",
   "metadata": {},
   "source": [
    "We have subjected our computers to a lot of work without getting any cool brain pictures. We address that here\n",
    "\n",
    "Please ignore the statsmodels error message. This appears to be an issue with the seaborn module"
   ]
  },
  {
   "cell_type": "code",
   "execution_count": null,
   "metadata": {
    "scrolled": false
   },
   "outputs": [],
   "source": [
    "network_analysis = os.getcwd()+'/network_analysis'\n",
    "# We will be using the files we just used network_analysis_from _corrmat to create\n",
    "NodalMeasures=network_analysis+'/NodalMeasures_corrmat_file_COST010.csv'\n",
    "GlobalMeasures=network_analysis+'/GlobalMeasures_corrmat_file_COST010.csv'\n",
    "RichClub=network_analysis+'/RICH_CLUB_corrmat_file_COST010.csv'\n",
    "# We're going to save them in a folder called figures\n",
    "figures_dir=os.getcwd()+'/figures'\n",
    "\n",
    "import pandas as pd\n",
    "measure_dict = pd.read_csv(NodalMeasures)\n",
    "\n",
    "import numpy as np\n",
    "import make_graphs as mkg\n",
    "%load_ext autoreload\n",
    "%autoreload 2\n",
    "\n",
    "results_dir = None\n",
    "\n",
    "import make_figures as mfg\n",
    "mfg.figure_4(NodalMeasures, corrmat_file, figures_dir, results_dir, mpm='MT', rich_club=False, covars_name='none')\n",
    "Image(\"figures/COVARS_none/Figure4.png\")"
   ]
  },
  {
   "cell_type": "code",
   "execution_count": null,
   "metadata": {},
   "outputs": [],
   "source": [
    "mfg.network_summary_fig(corrmat_file, NodalMeasures, GlobalMeasures, RichClub, figures_dir)\n",
    "Image(\"figures/NetworkSummary.png\")"
   ]
  }
 ],
 "metadata": {
  "anaconda-cloud": {},
  "kernelspec": {
   "display_name": "Python 3",
   "language": "python",
   "name": "python3"
  },
  "language_info": {
   "codemirror_mode": {
    "name": "ipython",
    "version": 3
   },
   "file_extension": ".py",
   "mimetype": "text/x-python",
   "name": "python",
   "nbconvert_exporter": "python",
   "pygments_lexer": "ipython3",
   "version": "3.6.3"
  }
 },
 "nbformat": 4,
 "nbformat_minor": 1
}
